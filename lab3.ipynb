<!DOCTYPE html>

<html  dir="ltr" lang="pl" xml:lang="pl">
<head>
    <title>Wydział Informatyki, Elektroniki i Telekomunikacji: Zaloguj się do serwisu</title>
    <link rel="shortcut icon" href="https://upel2.cel.agh.edu.pl/wiet/theme/image.php/celupel/theme/1634644510/favicon" />
    <meta http-equiv="Content-Type" content="text/html; charset=utf-8" />
<meta name="keywords" content="moodle, Wydział Informatyki, Elektroniki i Telekomunikacji: Zaloguj się do serwisu" />
<link rel="stylesheet" type="text/css" href="https://upel2.cel.agh.edu.pl/wiet/theme/yui_combo.php?rollup/3.17.2/yui-moodlesimple-min.css" /><script id="firstthemesheet" type="text/css">/** Required in order to fix style inclusion problems in IE with YUI **/</script><link rel="stylesheet" type="text/css" href="https://upel2.cel.agh.edu.pl/wiet/theme/styles.php/celupel/1634644510_1598513830/all" />
<script>
//<![CDATA[
var M = {}; M.yui = {};
M.pageloadstarttime = new Date();
M.cfg = {"wwwroot":"https:\/\/upel2.cel.agh.edu.pl\/wiet","sesskey":"zlSYPnrwRI","sessiontimeout":"7200","sessiontimeoutwarning":1200,"themerev":"1634644510","slasharguments":1,"theme":"celupel","iconsystemmodule":"core\/icon_system_fontawesome","jsrev":"1634644510","admin":"admin","svgicons":true,"usertimezone":"Europa\/Warszawa","contextid":1,"langrev":1636600265,"templaterev":"1634644510"};var yui1ConfigFn = function(me) {if(/-skin|reset|fonts|grids|base/.test(me.name)){me.type='css';me.path=me.path.replace(/\.js/,'.css');me.path=me.path.replace(/\/yui2-skin/,'/assets/skins/sam/yui2-skin')}};
var yui2ConfigFn = function(me) {var parts=me.name.replace(/^moodle-/,'').split('-'),component=parts.shift(),module=parts[0],min='-min';if(/-(skin|core)$/.test(me.name)){parts.pop();me.type='css';min=''}
if(module){var filename=parts.join('-');me.path=component+'/'+module+'/'+filename+min+'.'+me.type}else{me.path=component+'/'+component+'.'+me.type}};
YUI_config = {"debug":false,"base":"https:\/\/upel2.cel.agh.edu.pl\/wiet\/lib\/yuilib\/3.17.2\/","comboBase":"https:\/\/upel2.cel.agh.edu.pl\/wiet\/theme\/yui_combo.php?","combine":true,"filter":null,"insertBefore":"firstthemesheet","groups":{"yui2":{"base":"https:\/\/upel2.cel.agh.edu.pl\/wiet\/lib\/yuilib\/2in3\/2.9.0\/build\/","comboBase":"https:\/\/upel2.cel.agh.edu.pl\/wiet\/theme\/yui_combo.php?","combine":true,"ext":false,"root":"2in3\/2.9.0\/build\/","patterns":{"yui2-":{"group":"yui2","configFn":yui1ConfigFn}}},"moodle":{"name":"moodle","base":"https:\/\/upel2.cel.agh.edu.pl\/wiet\/theme\/yui_combo.php?m\/1634644510\/","combine":true,"comboBase":"https:\/\/upel2.cel.agh.edu.pl\/wiet\/theme\/yui_combo.php?","ext":false,"root":"m\/1634644510\/","patterns":{"moodle-":{"group":"moodle","configFn":yui2ConfigFn}},"filter":null,"modules":{"moodle-core-actionmenu":{"requires":["base","event","node-event-simulate"]},"moodle-core-blocks":{"requires":["base","node","io","dom","dd","dd-scroll","moodle-core-dragdrop","moodle-core-notification"]},"moodle-core-tooltip":{"requires":["base","node","io-base","moodle-core-notification-dialogue","json-parse","widget-position","widget-position-align","event-outside","cache-base"]},"moodle-core-handlebars":{"condition":{"trigger":"handlebars","when":"after"}},"moodle-core-languninstallconfirm":{"requires":["base","node","moodle-core-notification-confirm","moodle-core-notification-alert"]},"moodle-core-lockscroll":{"requires":["plugin","base-build"]},"moodle-core-formchangechecker":{"requires":["base","event-focus","moodle-core-event"]},"moodle-core-dragdrop":{"requires":["base","node","io","dom","dd","event-key","event-focus","moodle-core-notification"]},"moodle-core-maintenancemodetimer":{"requires":["base","node"]},"moodle-core-event":{"requires":["event-custom"]},"moodle-core-chooserdialogue":{"requires":["base","panel","moodle-core-notification"]},"moodle-core-notification":{"requires":["moodle-core-notification-dialogue","moodle-core-notification-alert","moodle-core-notification-confirm","moodle-core-notification-exception","moodle-core-notification-ajaxexception"]},"moodle-core-notification-dialogue":{"requires":["base","node","panel","escape","event-key","dd-plugin","moodle-core-widget-focusafterclose","moodle-core-lockscroll"]},"moodle-core-notification-alert":{"requires":["moodle-core-notification-dialogue"]},"moodle-core-notification-confirm":{"requires":["moodle-core-notification-dialogue"]},"moodle-core-notification-exception":{"requires":["moodle-core-notification-dialogue"]},"moodle-core-notification-ajaxexception":{"requires":["moodle-core-notification-dialogue"]},"moodle-core-popuphelp":{"requires":["moodle-core-tooltip"]},"moodle-core_availability-form":{"requires":["base","node","event","event-delegate","panel","moodle-core-notification-dialogue","json"]},"moodle-backup-confirmcancel":{"requires":["node","node-event-simulate","moodle-core-notification-confirm"]},"moodle-backup-backupselectall":{"requires":["node","event","node-event-simulate","anim"]},"moodle-course-formatchooser":{"requires":["base","node","node-event-simulate"]},"moodle-course-management":{"requires":["base","node","io-base","moodle-core-notification-exception","json-parse","dd-constrain","dd-proxy","dd-drop","dd-delegate","node-event-delegate"]},"moodle-course-categoryexpander":{"requires":["node","event-key"]},"moodle-course-util":{"requires":["node"],"use":["moodle-course-util-base"],"submodules":{"moodle-course-util-base":{},"moodle-course-util-section":{"requires":["node","moodle-course-util-base"]},"moodle-course-util-cm":{"requires":["node","moodle-course-util-base"]}}},"moodle-course-dragdrop":{"requires":["base","node","io","dom","dd","dd-scroll","moodle-core-dragdrop","moodle-core-notification","moodle-course-coursebase","moodle-course-util"]},"moodle-form-dateselector":{"requires":["base","node","overlay","calendar"]},"moodle-form-shortforms":{"requires":["node","base","selector-css3","moodle-core-event"]},"moodle-form-passwordunmask":{"requires":[]},"moodle-question-chooser":{"requires":["moodle-core-chooserdialogue"]},"moodle-question-searchform":{"requires":["base","node"]},"moodle-question-preview":{"requires":["base","dom","event-delegate","event-key","core_question_engine"]},"moodle-availability_completion-form":{"requires":["base","node","event","moodle-core_availability-form"]},"moodle-availability_date-form":{"requires":["base","node","event","io","moodle-core_availability-form"]},"moodle-availability_grade-form":{"requires":["base","node","event","moodle-core_availability-form"]},"moodle-availability_group-form":{"requires":["base","node","event","moodle-core_availability-form"]},"moodle-availability_grouping-form":{"requires":["base","node","event","moodle-core_availability-form"]},"moodle-availability_profile-form":{"requires":["base","node","event","moodle-core_availability-form"]},"moodle-mod_assign-history":{"requires":["node","transition"]},"moodle-mod_attendance-groupfilter":{"requires":["base","node"]},"moodle-mod_offlinequiz-toolboxes":{"requires":["base","node","event","event-key","io","moodle-mod_offlinequiz-offlinequizbase","moodle-mod_offlinequiz-util-slot","moodle-core-notification-ajaxexception"]},"moodle-mod_offlinequiz-repaginate":{"requires":["base","event","node","io","moodle-core-notification-dialogue"]},"moodle-mod_offlinequiz-questionchooser":{"requires":["moodle-core-chooserdialogue","moodle-mod_offlinequiz-util","querystring-parse"]},"moodle-mod_offlinequiz-util":{"requires":["node"],"use":["moodle-mod_offlinequiz-util-base"],"submodules":{"moodle-mod_offlinequiz-util-base":{},"moodle-mod_offlinequiz-util-slot":{"requires":["node","moodle-mod_offlinequiz-util-base"]},"moodle-mod_offlinequiz-util-page":{"requires":["node","moodle-mod_offlinequiz-util-base"]}}},"moodle-mod_offlinequiz-offlinequizbase":{"requires":["base","node"]},"moodle-mod_offlinequiz-offlinequizquestionbank":{"requires":["base","event","node","io","io-form","yui-later","moodle-question-qbankmanager","moodle-question-chooser","moodle-question-searchform","moodle-core-notification"]},"moodle-mod_offlinequiz-randomquestion":{"requires":["base","event","node","io","moodle-core-notification-dialogue"]},"moodle-mod_offlinequiz-autosave":{"requires":["base","node","event","event-valuechange","node-event-delegate","io-form"]},"moodle-mod_offlinequiz-modform":{"requires":["base","node","event"]},"moodle-mod_offlinequiz-dragdrop":{"requires":["base","node","io","dom","dd","dd-scroll","moodle-core-dragdrop","moodle-core-notification","moodle-mod_offlinequiz-offlinequizbase","moodle-mod_offlinequiz-util-base","moodle-mod_offlinequiz-util-page","moodle-mod_offlinequiz-util-slot","moodle-course-util"]},"moodle-mod_quiz-toolboxes":{"requires":["base","node","event","event-key","io","moodle-mod_quiz-quizbase","moodle-mod_quiz-util-slot","moodle-core-notification-ajaxexception"]},"moodle-mod_quiz-questionchooser":{"requires":["moodle-core-chooserdialogue","moodle-mod_quiz-util","querystring-parse"]},"moodle-mod_quiz-util":{"requires":["node","moodle-core-actionmenu"],"use":["moodle-mod_quiz-util-base"],"submodules":{"moodle-mod_quiz-util-base":{},"moodle-mod_quiz-util-slot":{"requires":["node","moodle-mod_quiz-util-base"]},"moodle-mod_quiz-util-page":{"requires":["node","moodle-mod_quiz-util-base"]}}},"moodle-mod_quiz-quizbase":{"requires":["base","node"]},"moodle-mod_quiz-autosave":{"requires":["base","node","event","event-valuechange","node-event-delegate","io-form"]},"moodle-mod_quiz-modform":{"requires":["base","node","event"]},"moodle-mod_quiz-dragdrop":{"requires":["base","node","io","dom","dd","dd-scroll","moodle-core-dragdrop","moodle-core-notification","moodle-mod_quiz-quizbase","moodle-mod_quiz-util-base","moodle-mod_quiz-util-page","moodle-mod_quiz-util-slot","moodle-course-util"]},"moodle-message_airnotifier-toolboxes":{"requires":["base","node","io"]},"moodle-filter_glossary-autolinker":{"requires":["base","node","io-base","json-parse","event-delegate","overlay","moodle-core-event","moodle-core-notification-alert","moodle-core-notification-exception","moodle-core-notification-ajaxexception"]},"moodle-filter_mathjaxloader-loader":{"requires":["moodle-core-event"]},"moodle-editor_atto-rangy":{"requires":[]},"moodle-editor_atto-editor":{"requires":["node","transition","io","overlay","escape","event","event-simulate","event-custom","node-event-html5","node-event-simulate","yui-throttle","moodle-core-notification-dialogue","moodle-core-notification-confirm","moodle-editor_atto-rangy","handlebars","timers","querystring-stringify"]},"moodle-editor_atto-plugin":{"requires":["node","base","escape","event","event-outside","handlebars","event-custom","timers","moodle-editor_atto-menu"]},"moodle-editor_atto-menu":{"requires":["moodle-core-notification-dialogue","node","event","event-custom"]},"moodle-report_eventlist-eventfilter":{"requires":["base","event","node","node-event-delegate","datatable","autocomplete","autocomplete-filters"]},"moodle-report_loglive-fetchlogs":{"requires":["base","event","node","io","node-event-delegate"]},"moodle-gradereport_grader-gradereporttable":{"requires":["base","node","event","handlebars","overlay","event-hover"]},"moodle-gradereport_history-userselector":{"requires":["escape","event-delegate","event-key","handlebars","io-base","json-parse","moodle-core-notification-dialogue"]},"moodle-tool_capability-search":{"requires":["base","node"]},"moodle-tool_lp-dragdrop-reorder":{"requires":["moodle-core-dragdrop"]},"moodle-tool_monitor-dropdown":{"requires":["base","event","node"]},"moodle-assignfeedback_editpdf-editor":{"requires":["base","event","node","io","graphics","json","event-move","event-resize","transition","querystring-stringify-simple","moodle-core-notification-dialog","moodle-core-notification-alert","moodle-core-notification-warning","moodle-core-notification-exception","moodle-core-notification-ajaxexception"]},"moodle-atto_accessibilitychecker-button":{"requires":["color-base","moodle-editor_atto-plugin"]},"moodle-atto_accessibilityhelper-button":{"requires":["moodle-editor_atto-plugin"]},"moodle-atto_align-button":{"requires":["moodle-editor_atto-plugin"]},"moodle-atto_bold-button":{"requires":["moodle-editor_atto-plugin"]},"moodle-atto_charmap-button":{"requires":["moodle-editor_atto-plugin"]},"moodle-atto_clear-button":{"requires":["moodle-editor_atto-plugin"]},"moodle-atto_collapse-button":{"requires":["moodle-editor_atto-plugin"]},"moodle-atto_emojipicker-button":{"requires":["moodle-editor_atto-plugin"]},"moodle-atto_emoticon-button":{"requires":["moodle-editor_atto-plugin"]},"moodle-atto_equation-button":{"requires":["moodle-editor_atto-plugin","moodle-core-event","io","event-valuechange","tabview","array-extras"]},"moodle-atto_fullscreen-button":{"requires":["event-resize","moodle-editor_atto-plugin"]},"moodle-atto_h5p-button":{"requires":["moodle-editor_atto-plugin"]},"moodle-atto_html-button":{"requires":["promise","moodle-editor_atto-plugin","moodle-atto_html-beautify","moodle-atto_html-codemirror","event-valuechange"]},"moodle-atto_html-codemirror":{"requires":["moodle-atto_html-codemirror-skin"]},"moodle-atto_html-beautify":{},"moodle-atto_image-button":{"requires":["moodle-editor_atto-plugin"]},"moodle-atto_indent-button":{"requires":["moodle-editor_atto-plugin"]},"moodle-atto_italic-button":{"requires":["moodle-editor_atto-plugin"]},"moodle-atto_link-button":{"requires":["moodle-editor_atto-plugin"]},"moodle-atto_managefiles-button":{"requires":["moodle-editor_atto-plugin"]},"moodle-atto_managefiles-usedfiles":{"requires":["node","escape"]},"moodle-atto_media-button":{"requires":["moodle-editor_atto-plugin","moodle-form-shortforms"]},"moodle-atto_noautolink-button":{"requires":["moodle-editor_atto-plugin"]},"moodle-atto_orderedlist-button":{"requires":["moodle-editor_atto-plugin"]},"moodle-atto_recordrtc-button":{"requires":["moodle-editor_atto-plugin","moodle-atto_recordrtc-recording"]},"moodle-atto_recordrtc-recording":{"requires":["moodle-atto_recordrtc-button"]},"moodle-atto_rtl-button":{"requires":["moodle-editor_atto-plugin"]},"moodle-atto_snippet-button":{"requires":["moodle-editor_atto-plugin"]},"moodle-atto_strike-button":{"requires":["moodle-editor_atto-plugin"]},"moodle-atto_styles-button":{"requires":["moodle-editor_atto-plugin"]},"moodle-atto_subscript-button":{"requires":["moodle-editor_atto-plugin"]},"moodle-atto_superscript-button":{"requires":["moodle-editor_atto-plugin"]},"moodle-atto_table-button":{"requires":["moodle-editor_atto-plugin","moodle-editor_atto-menu","event","event-valuechange"]},"moodle-atto_teamsmeeting-button":{"requires":["moodle-editor_atto-plugin"]},"moodle-atto_title-button":{"requires":["moodle-editor_atto-plugin"]},"moodle-atto_underline-button":{"requires":["moodle-editor_atto-plugin"]},"moodle-atto_undo-button":{"requires":["moodle-editor_atto-plugin"]},"moodle-atto_unorderedlist-button":{"requires":["moodle-editor_atto-plugin"]},"moodle-atto_wordimport-button":{"requires":["moodle-editor_atto-plugin"]}}},"gallery":{"name":"gallery","base":"https:\/\/upel2.cel.agh.edu.pl\/wiet\/lib\/yuilib\/gallery\/","combine":true,"comboBase":"https:\/\/upel2.cel.agh.edu.pl\/wiet\/theme\/yui_combo.php?","ext":false,"root":"gallery\/1634644510\/","patterns":{"gallery-":{"group":"gallery"}}}},"modules":{"core_filepicker":{"name":"core_filepicker","fullpath":"https:\/\/upel2.cel.agh.edu.pl\/wiet\/lib\/javascript.php\/1634644510\/repository\/filepicker.js","requires":["base","node","node-event-simulate","json","async-queue","io-base","io-upload-iframe","io-form","yui2-treeview","panel","cookie","datatable","datatable-sort","resize-plugin","dd-plugin","escape","moodle-core_filepicker","moodle-core-notification-dialogue"]},"core_comment":{"name":"core_comment","fullpath":"https:\/\/upel2.cel.agh.edu.pl\/wiet\/lib\/javascript.php\/1634644510\/comment\/comment.js","requires":["base","io-base","node","json","yui2-animation","overlay","escape"]},"mathjax":{"name":"mathjax","fullpath":"https:\/\/cdn.jsdelivr.net\/npm\/mathjax@2.7.9\/MathJax.js?delayStartupUntil=configured"}}};
M.yui.loader = {modules: {}};

//]]>
</script>

<!-- Global site tag (gtag.js) - Google Analytics -->
<script async src="https://www.googletagmanager.com/gtag/js?id=UA-6375177-13"></script>
<script>
  window.dataLayer = window.dataLayer || []; 
  function gtag(){dataLayer.push(arguments);}
  gtag('js', new Date());
 
  gtag('config', 'UA-6375177-13');
</script>
<meta name="robots" content="noindex" />
    <meta name="viewport" content="width=device-width, initial-scale=1.0">
	
	
	<!--<script type="text/javascript" src="https://upel.agh.edu.pl/kokpit/cookies/cookies_utf-8_akcept.js"></script>-->
	<!--<script type="text/javascript" src="https://upel.agh.edu.pl/kokpit/cookies/cookies_utf-8_akcept-prace-serwisowe.js"></script>-->	
    <link rel="stylesheet" href="https://upel2.cel.agh.edu.pl/wiet/filter/synhi/javascript/EnlighterJS_3_4_0/styles/enlighterjs.classic.min.css">
    <script type="text/javascript" src="https://upel2.cel.agh.edu.pl/wiet/filter/synhi/javascript/EnlighterJS_3_4_0/scripts/enlighterjs.min.js"></script>
</head><body onload="document.getElementById('username').focus()"  id="page-login-index" class="format-site  path-login dir-ltr lang-pl yui-skin-sam yui3-skin-sam upel2-cel-agh-edu-pl--wiet pagelayout-login course-1 context-1 notloggedin ">
<div class="toast-wrapper mx-auto py-0 fixed-top" role="status" aria-live="polite"></div>

<div id="page-wrapper">

    <div>
    <a class="sr-only sr-only-focusable" href="#maincontent">Przejdź do głównej zawartości</a>
</div><script src="https://upel2.cel.agh.edu.pl/wiet/lib/javascript.php/1634644510/lib/babel-polyfill/polyfill.min.js"></script>
<script src="https://upel2.cel.agh.edu.pl/wiet/lib/javascript.php/1634644510/lib/polyfills/polyfill.js"></script>
<script src="https://upel2.cel.agh.edu.pl/wiet/theme/yui_combo.php?rollup/3.17.2/yui-moodlesimple-min.js"></script><script src="https://upel2.cel.agh.edu.pl/wiet/lib/javascript.php/1634644510/lib/javascript-static.js"></script>
<script>
//<![CDATA[
document.body.className += ' jsenabled';
//]]>
</script>



    <div id="page" class="container-fluid mt-0">
        <div id="page-content" class="row">
            <div id="region-main-box" class="col-12">
                <section id="region-main" class="col-12" aria-label="Zawartość">
                    
					
					<div id="uczelnianaplatforma">		

<!-- info strona glowna -->   


<div class="row justify-content-center" id="yui_3_17_2_1_1536659162989_26">
<div class="col-xl-6 col-sm-8 " id="yui_3_17_2_1_1536659162989_25">

<!-- menu -->
<div id="menu-login">
<div id="menu">
<ul class="menu navbar-nav d-md-flex">
<li class="dropdown nav-item">
    <a class="dropdown-toggle nav-link" id="drop-down-619612f9bbe9e619612f9bb75b4" data-toggle="dropdown" aria-haspopup="true" aria-expanded="false" href="#" title="Język" aria-controls="drop-down-menu-619612f9bbe9e619612f9bb75b4">
        Polski ‎(pl)‎
    </a>
    <div class="dropdown-menu" role="menu" id="drop-down-menu-619612f9bbe9e619612f9bb75b4" aria-labelledby="drop-down-619612f9bbe9e619612f9bb75b4">
                <a class="dropdown-item" role="menuitem" href="https://upel2.cel.agh.edu.pl/wiet/login/index.php?lang=en" title="English ‎(en)‎">English ‎(en)‎</a>
                <a class="dropdown-item" role="menuitem" href="https://upel2.cel.agh.edu.pl/wiet/login/index.php?lang=pl" title="Polski ‎(pl)‎">Polski ‎(pl)‎</a>
    </div>
</li> 

</ul>
</div>
</div>
<!-- menu -->
                <div>
	
        <div id="startlogin">
<img class="startlogin" src="https://upel2.cel.agh.edu.pl/wiet/theme/image.php/celupel/theme/1634644510/images/aghstart" alt="Kokpit" width="220">





</div>
        </div>
    </div>
</div>


 

  <!-- info strona glowna koniec --> 
  
 </div>
 
 <div id="intro">	
					
					
					
					
					<span class="notifications" id="user-notifications"></span>
                    <div role="main"><span id="maincontent"></span><div class="my-1 my-sm-5"></div>
<div class="row justify-content-center">
<div class="col-xl-6 col-sm-8 ">
<div class="card">
    <div class="card-block">
            <h1 class="h2 card-header text-center" aria-label="Wydział Informatyki, Elektroniki i Telekomunikacji: Zaloguj się">Wydział Informatyki, Elektroniki i Telekomunikacji</h1>
        <div class="card-body">


            <div class="row justify-content-md-center">
                <div class="col-md-5">
                    <form class="mt-3" action="https://upel2.cel.agh.edu.pl/wiet/login/index.php" method="post" id="login">
                        <input id="anchor" type="hidden" name="anchor" value="">
                        <script>document.getElementById('anchor').value = location.hash;</script>
                        <input type="hidden" name="logintoken" value="QYDZFnLra85MPQTdMO6F06u2x9QPBBnD">
                        <div class="form-group">
                            <label for="username" class="sr-only">
                                    Nazwa użytkownika
                            </label>
                            <input type="text" name="username" id="username"
                                class="form-control"
                                value=""
                                placeholder="Nazwa użytkownika"
                                autocomplete="username">
                        </div>
                        <div class="form-group">
                            <label for="password" class="sr-only">Hasło</label>
                            <input type="password" name="password" id="password" value=""
                                class="form-control"
                                placeholder="Hasło"
                                autocomplete="current-password">
                        </div>
                            <div class="rememberpass mt-3">
                                <input type="checkbox" name="rememberusername" id="rememberusername" value="1"  />
                                <label for="rememberusername">Zapamiętaj login</label>
                            </div>

                        <button type="submit" class="btn btn-primary btn-block mt-3" id="loginbtn">Zaloguj się</button>
                    </form>
                </div>

                <div class="col-md-5">
                    <div class="forgetpass mt-3">
                        <p><a href="https://upel2.cel.agh.edu.pl/wiet/login/forgot_password.php">Zapomniałeś(aś) nazwy użytkownika lub hasła?</a></p>
                    </div>

                    <div class="mt-3">
                        Przyjmowanie cookies (ciasteczek) musi być włączone w Twojej przeglądarce
                        <a class="btn btn-link p-0" role="button"
    data-container="body" data-toggle="popover"
    data-placement="right" data-content="&lt;div class=&quot;no-overflow&quot;&gt;&lt;p&gt;Ta strona korzysta z dwóch cookies.&lt;/p&gt;

&lt;p&gt;Bardzo istotnym jest ten poświęcony sesjom, nazwany zazwyczaj &lt;b&gt;MoodleSession&lt;/b&gt;. Musisz zezwolić przeglądarce na umieszczenie tego cookie aby zachować ciągłość pracy, a także aby zachować twoje zalogowanie przy przechodzeniu między stronami. Kiedy się wylogowujesz, lub kończysz działanie przeglądarki ten cookie zostaje usunięty (z Twojej przeglądarki i z serwera).&lt;/p&gt;

&lt;p&gt;Drugi cookie jest używany dla czystej wygody i zazwyczaj nazywany jest &lt;b&gt;MOODLEID&lt;/b&gt;. Zapamiętana w nim jest twoja nazwa użytkownika. Oznacza to, że jeśli wrócisz na tą stronę pole &#039;nazwa użytkownika&#039; na ekranie logowania będzie automatycznie uzupełniane. Możesz spokojnie zrezygnować z tego cookie - będziesz po prostu musiał każdorazowo wprowadzać swoją nazwę użytkownika podczas procesu logowania.&lt;/p&gt;
&lt;/div&gt; "
    data-html="true" tabindex="0" data-trigger="focus">
  <i class="icon fa fa-question-circle text-info fa-fw "  title="Pomoc dla Przyjmowanie cookies (ciasteczek) musi być włączone w Twojej przeglądarce" aria-label="Pomoc dla Przyjmowanie cookies (ciasteczek) musi być włączone w Twojej przeglądarce"></i>
</a>
                    </div>

                </div>
            </div>
        </div>
    </div>
</div>
</div>
</div>


<div class="row justify-content-center mt-3">
<div class="col-xl-6 col-sm-8">
<div class="card">
    <div class="card-body">
        <div class="card-title">
            <h2>Czy jesteś w tym serwisie po raz pierwszy?</h2>
        </div>
        <div>
         <br />
    Aby zalogować się w obszarze platformy e-learningowej, konieczne jest posiadanie konta w <a target="_blank" href="https://dziekanat.agh.edu.pl/" rel="noreferrer noopener">Wirtualnej Uczelni</a> lub <a href="https://web.usos.agh.edu.pl/kontroler.php" target="_blank" rel="noreferrer noopener">USOS</a> (z uzupełnionym adresem email) i utworzenie hasła do platformy UPEL. Jeżeli posiadasz utworzone hasło w innym obszarze platformy UPEL, możesz się zalogować z tymi samymi danymi. W przeciwnym wypadku, w celu utworzenia hasła proszę przejść do strony: <a target="_blank" href="http://upel.agh.edu.pl/haslo" rel="noreferrer noopener">upel.agh.edu.pl/haslo</a>.<br /><br />Loginem konta studenta jest jego <b>numer albumu</b>,<br />loginem dla prowadzącego jego <b>adres email</b> zarejestrowany w <a target="_blank" href="https://dziekanat.agh.edu.pl/" rel="noreferrer noopener">Wirtualnej Uczelni</a> lub <a href="https://web.usos.agh.edu.pl/kontroler.php" target="_blank" rel="noreferrer noopener">USOS</a>.<br /><br />
        </div>
    </div>
</div>
</div>
</div></div>
                    
                
				
				<div id="uczelnianaplatforma">
					
<!-- info strona glowna2 -->   

<!--<div id="nowosci"><a href="https://upel.agh.edu.pl/kokpit/nowosci/" target="blank">Nowości na UPeL</a></div>--> 

<div class="row justify-content-center" id="yui_3_17_2_1_1536659162989_26">
<div class="col-xl-6 col-sm-8 " id="yui_3_17_2_1_1536659162989_25">

    
                <div>
<div id="centrowane">
<a href="https://upel.agh.edu.pl/kokpit/obszary.html" target="_blank"><img class="startlogin3" src="https://upel2.cel.agh.edu.pl/wiet/theme/image.php/celupel/theme/1634644510/images/kokpit" alt="Kokpit" height="60"></a><a href="https://upel.agh.edu.pl/kokpit/wtyczki.html" target="_blank"><img class="startlogin3" src="https://upel2.cel.agh.edu.pl/wiet/theme/image.php/celupel/theme/1634644510/images/wtyczki" alt="Wtyczki" height="60"></a><a href="https://www.cel.agh.edu.pl/tutoriale/" target="_blank"><img class="startlogin3" src="https://upel2.cel.agh.edu.pl/wiet/theme/image.php/celupel/theme/1634644510/images/faq" alt="Tutoriale" height="60"></a>
</div>

        </div>
    </div>
</div>


 

  <!-- info strona glowna2 koniec --> 					
</div>						
				</div>			
				
				
				
				
				</section>
            </div>
        </div>
    </div>
    <footer id="page-footer" class="py-3 bg-dark text-light">
        <div class="container">
            <div id="course-footer"></div>
			
			
	<p><a href="http://www.agh.edu.pl" target="_blank"><img src="https://upel2.cel.agh.edu.pl/wiet/theme/image.php/celupel/theme/1634644510/images/logoagh_grey" alt="logo AGH" width="60" height="87"></a><a href="http://www.cel.agh.edu.pl" target="_blank"><img src="https://upel2.cel.agh.edu.pl/wiet/theme/image.php/celupel/theme/1634644510/images/logocel_grey" alt="logo CeL" width="73" height="87"></a><a href="https://www.cri.agh.edu.pl" target="_blank"><img src="https://upel2.cel.agh.edu.pl/wiet/theme/image.php/celupel/theme/1634644510/images/logocri_grey" alt="logo CRI" width="85" height="87"></a><br />Platforma e-Learningowa obsługiwana jest przez:<br /><a href="http://www.cel.agh.edu.pl" target="_blank">Centrum e-Learningu AGH</a> oraz <a href="https://www.cri.agh.edu.pl" target="_blank"> Centrum Rozwiązań Informatycznych AGH</a><br /><br /><br /></p>
			

        
            <a href="https://download.moodle.org/mobile?version=2021051702.04&amp;lang=pl&amp;iosappid=633359593&amp;androidappid=com.moodle.moodlemobile">Pobierz aplikację mobilną</a>
            <script>
//<![CDATA[
var require = {
    baseUrl : 'https://upel2.cel.agh.edu.pl/wiet/lib/requirejs.php/1634644510/',
    // We only support AMD modules with an explicit define() statement.
    enforceDefine: true,
    skipDataMain: true,
    waitSeconds : 0,

    paths: {
        jquery: 'https://upel2.cel.agh.edu.pl/wiet/lib/javascript.php/1634644510/lib/jquery/jquery-3.5.1.min',
        jqueryui: 'https://upel2.cel.agh.edu.pl/wiet/lib/javascript.php/1634644510/lib/jquery/ui-1.12.1/jquery-ui.min',
        jqueryprivate: 'https://upel2.cel.agh.edu.pl/wiet/lib/javascript.php/1634644510/lib/requirejs/jquery-private'
    },

    // Custom jquery config map.
    map: {
      // '*' means all modules will get 'jqueryprivate'
      // for their 'jquery' dependency.
      '*': { jquery: 'jqueryprivate' },
      // Stub module for 'process'. This is a workaround for a bug in MathJax (see MDL-60458).
      '*': { process: 'core/first' },

      // 'jquery-private' wants the real jQuery module
      // though. If this line was not here, there would
      // be an unresolvable cyclic dependency.
      jqueryprivate: { jquery: 'jquery' }
    }
};

//]]>
</script>
<script src="https://upel2.cel.agh.edu.pl/wiet/lib/javascript.php/1634644510/lib/requirejs/require.min.js"></script>
<script>
//<![CDATA[
M.util.js_pending("core/first");
require(['core/first'], function() {
require(['core/prefetch'])
;
require(["media_videojs/loader"], function(loader) {
    loader.setUp('pl');
});;

require(['jquery', 'core/custom_interaction_events'], function($, CustomEvents) {
    CustomEvents.define('#single_select619612f9bb75b3', [CustomEvents.events.accessibleChange]);
    $('#single_select619612f9bb75b3').on(CustomEvents.events.accessibleChange, function() {
        var ignore = $(this).find(':selected').attr('data-ignore');
        if (typeof ignore === typeof undefined) {
            $('#single_select_f619612f9bb75b2').submit();
        }
    });
});
;

M.util.js_pending('theme_celupel/loader');
require(['theme_celupel/loader'], function() {
  M.util.js_complete('theme_celupel/loader');
});
;

;
M.util.js_pending('core/notification'); require(['core/notification'], function(amd) {amd.init(1, []); M.util.js_complete('core/notification');});;
M.util.js_pending('core/log'); require(['core/log'], function(amd) {amd.setConfig({"level":"warn"}); M.util.js_complete('core/log');});;
M.util.js_pending('core/page_global'); require(['core/page_global'], function(amd) {amd.init(); M.util.js_complete('core/page_global');});
    M.util.js_complete("core/first");
});
//]]>
</script>
<script>
//<![CDATA[
M.str = {"moodle":{"lastmodified":"Ostatnia modyfikacja","name":"Nazwa","error":"B\u0142\u0105d","info":"Informacja","yes":"Tak","no":"Nie","cancel":"Anuluj","confirm":"Potwierd\u017a","areyousure":"Czy jeste\u015b pewny?","closebuttontitle":"Zamknij","unknownerror":"Nieznany b\u0142\u0105d","file":"Plik","url":"URL","collapseall":"Zwi\u0144 wszystko","expandall":"Rozwi\u0144 wszystko"},"repository":{"type":"Typ","size":"Rozmiar","invalidjson":"Nieprawid\u0142owy ci\u0105g jSON","nofilesattached":"Nie za\u0142\u0105czono plik\u00f3w","filepicker":"Wyb\u00f3r plik\u00f3w","logout":"Wyloguj si\u0119","nofilesavailable":"Brak dost\u0119pnych plik\u00f3w","norepositoriesavailable":"Niestety, \u017cadne z istniej\u0105cych repozytori\u00f3w nie mo\u017ce zawiera\u0107 plik\u00f3w w wymaganym formacie.","fileexistsdialogheader":"Plik istnieje","fileexistsdialog_editor":"Plik o wybranej nazwie zosta\u0142 ju\u017c za\u0142\u0105czony do tekstu, kt\u00f3ry edytujesz.","fileexistsdialog_filemanager":"Plik o wybranej nazwie ju\u017c zosta\u0142 do\u0142\u0105czony","renameto":"Zmie\u0144 nazw\u0119 na \"{$a}\"","referencesexist":"Istnieje {$a} skr\u00f3t\u00f3w, kt\u00f3re wykorzystuj\u0105 ten plik jako \u017ar\u00f3d\u0142o.","select":"Wybierz"},"admin":{"confirmdeletecomments":"Zamierzasz usun\u0105\u0107 komentarze, czy jeste\u015b pewien(a)?","confirmation":"Potwierdzenie"},"debug":{"debuginfo":"Debug info","line":"Line","stacktrace":"Stack trace"},"langconfig":{"labelsep":":"}};
//]]>
</script>
<script>
//<![CDATA[
(function() {Y.use("moodle-filter_mathjaxloader-loader",function() {M.filter_mathjaxloader.configure({"mathjaxconfig":"MathJax.Hub.Config({\r\n    config: [\"Accessible.js\", \"Safe.js\"],\r\n    errorSettings: { message: [\"!\"] },\r\n    skipStartupTypeset: true,\r\n    messageStyle: \"none\",\r\nTeX: { extensions: [\"AMSmath.js\",\"AMSsymbols.js\",\"mhchem.js\",\"noErrors.js\",\"noUndefined.js\"] }\r\n});","lang":"pl"});
});
M.util.help_popups.setup(Y);
 M.util.js_pending('random619612f9bb75b5'); Y.on('domready', function() { M.util.js_complete("init");  M.util.js_complete('random619612f9bb75b5'); });
})();
//]]>
</script>

        </div>
    </footer>
</div>

</body>
</html>