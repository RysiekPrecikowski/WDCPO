{
 "cells": [
  {
   "cell_type": "markdown",
   "source": [
    "# Zadanie domowe\n",
    "\n",
    "W przypadku obrazów w odcieniach szarości pojedynczy piksel z zakresu [0; 255] reprezentowany jest jako 8-bitowa liczba bez znaku.\n",
    "Pewnym rozszerzeniem analizy sposobu reprezentacji obrazu może być następujący eksperyment.\n",
    "Załóżmy, że z każdego z 8 bitów możemy stworzyć pojedynczy obraz binarny (ang. _bit-plane slicing_).\n",
    "Dla obrazka _100zloty.jpg_ (https://raw.githubusercontent.com/vision-agh/poc_sw/master/02_Point/100zloty.jpg) stwórz 8 obrazów, z których każdy powinien zawierać jedną płaszczyznę bitową.\n",
    "Podpowiedź $-$ warto sprawdzić, jak realizuje się bitowe operacje logiczne.\n",
    "Zastosowanie takiej dekompozycji obrazu pozwala na analizę ,,ważności'' poszczególnych bitów.\n",
    "Jest to użyteczne w kwantyzacji, ale także w kompresji.\n",
    "\n",
    "W drugim etapie zadania proszę spróbować odtworzyć obraz oryginalny z mniejszej liczby obrazów binarnych.\n",
    "Warto zacząć od dwóch najbardziej znaczących bitów, a później dodawać kolejne.\n",
    "Należy utworzyć co najmniej trzy wersje zrekonstruowanych obrazów.\n",
    "Podpowiedź $-$ rekonstrukcja obrazu to mnożenie przez odpowiednią potęgę liczby 2 (przesunięcie bitowe) oraz dodawanie."
   ],
   "metadata": {
    "collapsed": false
   }
  },
  {
   "cell_type": "code",
   "execution_count": null,
   "outputs": [],
   "source": [
    "import cv2\n",
    "import numpy as np\n",
    "import matplotlib.pyplot as plt\n",
    "\n",
    "!wget -c https://raw.githubusercontent.com/vision-agh/poc_sw/master/02_Point/100zloty.jpg"
   ],
   "metadata": {
    "collapsed": false,
    "pycharm": {
     "name": "#%%\n"
    }
   }
  },
  {
   "cell_type": "code",
   "execution_count": null,
   "outputs": [],
   "source": [
    "zloty = plt.imread(\"100zloty.jpg\")\n",
    "zloty = cv2.cvtColor(zloty, cv2.COLOR_BGR2RGB)\n",
    "\n",
    "plt.imshow(zloty)\n",
    "plt.show()"
   ],
   "metadata": {
    "collapsed": false,
    "pycharm": {
     "name": "#%%\n"
    }
   }
  },
  {
   "cell_type": "code",
   "execution_count": null,
   "outputs": [],
   "source": [
    "def get_k_bit(integer, k):\n",
    "    return integer >> k & 1\n",
    "\n",
    "bits = [None] * 8\n",
    "for i in range(8):\n",
    "    img = get_k_bit(zloty, i)\n",
    "\n",
    "    bits[i] = img\n",
    "    img = img * 255\n",
    "    img = img.astype('uint8')\n",
    "\n",
    "    plt.title(f\"{i} bit\")\n",
    "    plt.imshow(img)\n",
    "\n",
    "    plt.show()"
   ],
   "metadata": {
    "collapsed": false,
    "pycharm": {
     "name": "#%%\n"
    }
   }
  },
  {
   "cell_type": "code",
   "execution_count": null,
   "outputs": [],
   "source": [
    "img = np.zeros_like(zloty)\n",
    "for i in range(7, -1, -1):\n",
    "    img += bits[i] << i\n",
    "\n",
    "    plt.imshow(img)\n",
    "    plt.title(f\"bits [{i}:{7}]\")\n",
    "    plt.show()\n"
   ],
   "metadata": {
    "collapsed": false,
    "pycharm": {
     "name": "#%%\n"
    }
   }
  },
  {
   "cell_type": "code",
   "execution_count": null,
   "outputs": [],
   "source": [
    "img = np.zeros_like(zloty)\n",
    "for i in range(8):\n",
    "    img += bits[i] << i\n",
    "\n",
    "    plt.imshow(img * int(256 / 2**i - 1))\n",
    "    plt.title(f\"bits [{0}:{i}]\")\n",
    "    plt.show()"
   ],
   "metadata": {
    "collapsed": false,
    "pycharm": {
     "name": "#%%\n"
    }
   }
  }
 ],
 "metadata": {
  "kernelspec": {
   "display_name": "Python 3",
   "language": "python",
   "name": "python3"
  },
  "language_info": {
   "codemirror_mode": {
    "name": "ipython",
    "version": 2
   },
   "file_extension": ".py",
   "mimetype": "text/x-python",
   "name": "python",
   "nbconvert_exporter": "python",
   "pygments_lexer": "ipython2",
   "version": "2.7.6"
  }
 },
 "nbformat": 4,
 "nbformat_minor": 0
}